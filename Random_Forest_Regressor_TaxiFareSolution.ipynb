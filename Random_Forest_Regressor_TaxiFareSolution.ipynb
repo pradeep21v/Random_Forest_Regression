{
 "cells": [
  {
   "cell_type": "code",
   "execution_count": 1,
   "metadata": {},
   "outputs": [],
   "source": [
    "import numpy as np\n",
    "import pandas as pd"
   ]
  },
  {
   "cell_type": "code",
   "execution_count": 2,
   "metadata": {},
   "outputs": [],
   "source": [
    "taxi_df=pd.read_csv('TaxiFare.csv',header=0,index_col=0)"
   ]
  },
  {
   "cell_type": "code",
   "execution_count": 3,
   "metadata": {},
   "outputs": [
    {
     "data": {
      "text/html": [
       "<div>\n",
       "<style scoped>\n",
       "    .dataframe tbody tr th:only-of-type {\n",
       "        vertical-align: middle;\n",
       "    }\n",
       "\n",
       "    .dataframe tbody tr th {\n",
       "        vertical-align: top;\n",
       "    }\n",
       "\n",
       "    .dataframe thead th {\n",
       "        text-align: right;\n",
       "    }\n",
       "</style>\n",
       "<table border=\"1\" class=\"dataframe\">\n",
       "  <thead>\n",
       "    <tr style=\"text-align: right;\">\n",
       "      <th></th>\n",
       "      <th>amount</th>\n",
       "      <th>date_time_of_pickup</th>\n",
       "      <th>longitude_of_pickup</th>\n",
       "      <th>latitude_of_pickup</th>\n",
       "      <th>longitude_of_dropoff</th>\n",
       "      <th>latitude_of_dropoff</th>\n",
       "      <th>no_of_passenger</th>\n",
       "    </tr>\n",
       "    <tr>\n",
       "      <th>unique_id</th>\n",
       "      <th></th>\n",
       "      <th></th>\n",
       "      <th></th>\n",
       "      <th></th>\n",
       "      <th></th>\n",
       "      <th></th>\n",
       "      <th></th>\n",
       "    </tr>\n",
       "  </thead>\n",
       "  <tbody>\n",
       "    <tr>\n",
       "      <th>26:21.0</th>\n",
       "      <td>4.5</td>\n",
       "      <td>2009-06-15 17:26:21 UTC</td>\n",
       "      <td>-73.844311</td>\n",
       "      <td>40.721319</td>\n",
       "      <td>-73.841610</td>\n",
       "      <td>40.712278</td>\n",
       "      <td>1</td>\n",
       "    </tr>\n",
       "    <tr>\n",
       "      <th>52:16.0</th>\n",
       "      <td>16.9</td>\n",
       "      <td>2010-01-05 16:52:16 UTC</td>\n",
       "      <td>-74.016048</td>\n",
       "      <td>40.711303</td>\n",
       "      <td>-73.979268</td>\n",
       "      <td>40.782004</td>\n",
       "      <td>1</td>\n",
       "    </tr>\n",
       "    <tr>\n",
       "      <th>35:00.0</th>\n",
       "      <td>5.7</td>\n",
       "      <td>2011-08-18 00:35:00 UTC</td>\n",
       "      <td>-73.982738</td>\n",
       "      <td>40.761270</td>\n",
       "      <td>-73.991242</td>\n",
       "      <td>40.750562</td>\n",
       "      <td>2</td>\n",
       "    </tr>\n",
       "    <tr>\n",
       "      <th>30:42.0</th>\n",
       "      <td>7.7</td>\n",
       "      <td>2012-04-21 04:30:42 UTC</td>\n",
       "      <td>-73.987130</td>\n",
       "      <td>40.733143</td>\n",
       "      <td>-73.991567</td>\n",
       "      <td>40.758092</td>\n",
       "      <td>1</td>\n",
       "    </tr>\n",
       "    <tr>\n",
       "      <th>51:00.0</th>\n",
       "      <td>5.3</td>\n",
       "      <td>2010-03-09 07:51:00 UTC</td>\n",
       "      <td>-73.968095</td>\n",
       "      <td>40.768008</td>\n",
       "      <td>-73.956655</td>\n",
       "      <td>40.783762</td>\n",
       "      <td>1</td>\n",
       "    </tr>\n",
       "    <tr>\n",
       "      <th>...</th>\n",
       "      <td>...</td>\n",
       "      <td>...</td>\n",
       "      <td>...</td>\n",
       "      <td>...</td>\n",
       "      <td>...</td>\n",
       "      <td>...</td>\n",
       "      <td>...</td>\n",
       "    </tr>\n",
       "    <tr>\n",
       "      <th>25:15.0</th>\n",
       "      <td>15.0</td>\n",
       "      <td>2013-06-12 23:25:15 UTC</td>\n",
       "      <td>-73.999973</td>\n",
       "      <td>40.748531</td>\n",
       "      <td>-74.016899</td>\n",
       "      <td>40.705993</td>\n",
       "      <td>1</td>\n",
       "    </tr>\n",
       "    <tr>\n",
       "      <th>19:18.0</th>\n",
       "      <td>7.5</td>\n",
       "      <td>2015-06-22 17:19:18 UTC</td>\n",
       "      <td>-73.984756</td>\n",
       "      <td>40.768211</td>\n",
       "      <td>-73.987366</td>\n",
       "      <td>40.760597</td>\n",
       "      <td>1</td>\n",
       "    </tr>\n",
       "    <tr>\n",
       "      <th>53:00.0</th>\n",
       "      <td>6.9</td>\n",
       "      <td>2011-01-30 04:53:00 UTC</td>\n",
       "      <td>-74.002698</td>\n",
       "      <td>40.739428</td>\n",
       "      <td>-73.998108</td>\n",
       "      <td>40.759483</td>\n",
       "      <td>1</td>\n",
       "    </tr>\n",
       "    <tr>\n",
       "      <th>09:00.0</th>\n",
       "      <td>4.5</td>\n",
       "      <td>2012-11-06 07:09:00 UTC</td>\n",
       "      <td>-73.946062</td>\n",
       "      <td>40.777567</td>\n",
       "      <td>-73.953450</td>\n",
       "      <td>40.779687</td>\n",
       "      <td>2</td>\n",
       "    </tr>\n",
       "    <tr>\n",
       "      <th>13:14.0</th>\n",
       "      <td>10.9</td>\n",
       "      <td>2010-01-13 08:13:14 UTC</td>\n",
       "      <td>-73.932603</td>\n",
       "      <td>40.763805</td>\n",
       "      <td>-73.932603</td>\n",
       "      <td>40.763805</td>\n",
       "      <td>1</td>\n",
       "    </tr>\n",
       "  </tbody>\n",
       "</table>\n",
       "<p>50000 rows × 7 columns</p>\n",
       "</div>"
      ],
      "text/plain": [
       "           amount      date_time_of_pickup  longitude_of_pickup  \\\n",
       "unique_id                                                         \n",
       "26:21.0       4.5  2009-06-15 17:26:21 UTC           -73.844311   \n",
       "52:16.0      16.9  2010-01-05 16:52:16 UTC           -74.016048   \n",
       "35:00.0       5.7  2011-08-18 00:35:00 UTC           -73.982738   \n",
       "30:42.0       7.7  2012-04-21 04:30:42 UTC           -73.987130   \n",
       "51:00.0       5.3  2010-03-09 07:51:00 UTC           -73.968095   \n",
       "...           ...                      ...                  ...   \n",
       "25:15.0      15.0  2013-06-12 23:25:15 UTC           -73.999973   \n",
       "19:18.0       7.5  2015-06-22 17:19:18 UTC           -73.984756   \n",
       "53:00.0       6.9  2011-01-30 04:53:00 UTC           -74.002698   \n",
       "09:00.0       4.5  2012-11-06 07:09:00 UTC           -73.946062   \n",
       "13:14.0      10.9  2010-01-13 08:13:14 UTC           -73.932603   \n",
       "\n",
       "           latitude_of_pickup  longitude_of_dropoff  latitude_of_dropoff  \\\n",
       "unique_id                                                                  \n",
       "26:21.0             40.721319            -73.841610            40.712278   \n",
       "52:16.0             40.711303            -73.979268            40.782004   \n",
       "35:00.0             40.761270            -73.991242            40.750562   \n",
       "30:42.0             40.733143            -73.991567            40.758092   \n",
       "51:00.0             40.768008            -73.956655            40.783762   \n",
       "...                       ...                   ...                  ...   \n",
       "25:15.0             40.748531            -74.016899            40.705993   \n",
       "19:18.0             40.768211            -73.987366            40.760597   \n",
       "53:00.0             40.739428            -73.998108            40.759483   \n",
       "09:00.0             40.777567            -73.953450            40.779687   \n",
       "13:14.0             40.763805            -73.932603            40.763805   \n",
       "\n",
       "           no_of_passenger  \n",
       "unique_id                   \n",
       "26:21.0                  1  \n",
       "52:16.0                  1  \n",
       "35:00.0                  2  \n",
       "30:42.0                  1  \n",
       "51:00.0                  1  \n",
       "...                    ...  \n",
       "25:15.0                  1  \n",
       "19:18.0                  1  \n",
       "53:00.0                  1  \n",
       "09:00.0                  2  \n",
       "13:14.0                  1  \n",
       "\n",
       "[50000 rows x 7 columns]"
      ]
     },
     "execution_count": 3,
     "metadata": {},
     "output_type": "execute_result"
    }
   ],
   "source": [
    "taxi_df"
   ]
  },
  {
   "cell_type": "code",
   "execution_count": 4,
   "metadata": {},
   "outputs": [
    {
     "name": "stdout",
     "output_type": "stream",
     "text": [
      "<class 'pandas.core.frame.DataFrame'>\n",
      "Index: 50000 entries, 26:21.0 to 13:14.0\n",
      "Data columns (total 7 columns):\n",
      " #   Column                Non-Null Count  Dtype  \n",
      "---  ------                --------------  -----  \n",
      " 0   amount                50000 non-null  float64\n",
      " 1   date_time_of_pickup   50000 non-null  object \n",
      " 2   longitude_of_pickup   50000 non-null  float64\n",
      " 3   latitude_of_pickup    50000 non-null  float64\n",
      " 4   longitude_of_dropoff  50000 non-null  float64\n",
      " 5   latitude_of_dropoff   50000 non-null  float64\n",
      " 6   no_of_passenger       50000 non-null  int64  \n",
      "dtypes: float64(5), int64(1), object(1)\n",
      "memory usage: 3.1+ MB\n"
     ]
    }
   ],
   "source": [
    "taxi_df.info()"
   ]
  },
  {
   "cell_type": "code",
   "execution_count": 5,
   "metadata": {},
   "outputs": [],
   "source": [
    "taxi_df['date_time_of_pickup']=pd.to_datetime(taxi_df.date_time_of_pickup)"
   ]
  },
  {
   "cell_type": "code",
   "execution_count": 6,
   "metadata": {},
   "outputs": [
    {
     "name": "stdout",
     "output_type": "stream",
     "text": [
      "<class 'pandas.core.frame.DataFrame'>\n",
      "Index: 50000 entries, 26:21.0 to 13:14.0\n",
      "Data columns (total 7 columns):\n",
      " #   Column                Non-Null Count  Dtype              \n",
      "---  ------                --------------  -----              \n",
      " 0   amount                50000 non-null  float64            \n",
      " 1   date_time_of_pickup   50000 non-null  datetime64[ns, UTC]\n",
      " 2   longitude_of_pickup   50000 non-null  float64            \n",
      " 3   latitude_of_pickup    50000 non-null  float64            \n",
      " 4   longitude_of_dropoff  50000 non-null  float64            \n",
      " 5   latitude_of_dropoff   50000 non-null  float64            \n",
      " 6   no_of_passenger       50000 non-null  int64              \n",
      "dtypes: datetime64[ns, UTC](1), float64(5), int64(1)\n",
      "memory usage: 3.1+ MB\n"
     ]
    }
   ],
   "source": [
    "taxi_df.info()"
   ]
  },
  {
   "cell_type": "code",
   "execution_count": 7,
   "metadata": {},
   "outputs": [
    {
     "data": {
      "text/html": [
       "<div>\n",
       "<style scoped>\n",
       "    .dataframe tbody tr th:only-of-type {\n",
       "        vertical-align: middle;\n",
       "    }\n",
       "\n",
       "    .dataframe tbody tr th {\n",
       "        vertical-align: top;\n",
       "    }\n",
       "\n",
       "    .dataframe thead th {\n",
       "        text-align: right;\n",
       "    }\n",
       "</style>\n",
       "<table border=\"1\" class=\"dataframe\">\n",
       "  <thead>\n",
       "    <tr style=\"text-align: right;\">\n",
       "      <th></th>\n",
       "      <th>amount</th>\n",
       "      <th>longitude_of_pickup</th>\n",
       "      <th>latitude_of_pickup</th>\n",
       "      <th>longitude_of_dropoff</th>\n",
       "      <th>latitude_of_dropoff</th>\n",
       "      <th>no_of_passenger</th>\n",
       "    </tr>\n",
       "  </thead>\n",
       "  <tbody>\n",
       "    <tr>\n",
       "      <th>count</th>\n",
       "      <td>50000.000000</td>\n",
       "      <td>50000.000000</td>\n",
       "      <td>50000.000000</td>\n",
       "      <td>50000.000000</td>\n",
       "      <td>50000.000000</td>\n",
       "      <td>50000.000000</td>\n",
       "    </tr>\n",
       "    <tr>\n",
       "      <th>mean</th>\n",
       "      <td>11.364171</td>\n",
       "      <td>-72.509756</td>\n",
       "      <td>39.933759</td>\n",
       "      <td>-72.504616</td>\n",
       "      <td>39.926251</td>\n",
       "      <td>1.667840</td>\n",
       "    </tr>\n",
       "    <tr>\n",
       "      <th>std</th>\n",
       "      <td>9.685557</td>\n",
       "      <td>10.393860</td>\n",
       "      <td>6.224857</td>\n",
       "      <td>10.407570</td>\n",
       "      <td>6.014737</td>\n",
       "      <td>1.289195</td>\n",
       "    </tr>\n",
       "    <tr>\n",
       "      <th>min</th>\n",
       "      <td>-5.000000</td>\n",
       "      <td>-75.423848</td>\n",
       "      <td>-74.006893</td>\n",
       "      <td>-84.654241</td>\n",
       "      <td>-74.006377</td>\n",
       "      <td>0.000000</td>\n",
       "    </tr>\n",
       "    <tr>\n",
       "      <th>25%</th>\n",
       "      <td>6.000000</td>\n",
       "      <td>-73.992062</td>\n",
       "      <td>40.734880</td>\n",
       "      <td>-73.991152</td>\n",
       "      <td>40.734371</td>\n",
       "      <td>1.000000</td>\n",
       "    </tr>\n",
       "    <tr>\n",
       "      <th>50%</th>\n",
       "      <td>8.500000</td>\n",
       "      <td>-73.981840</td>\n",
       "      <td>40.752678</td>\n",
       "      <td>-73.980082</td>\n",
       "      <td>40.753372</td>\n",
       "      <td>1.000000</td>\n",
       "    </tr>\n",
       "    <tr>\n",
       "      <th>75%</th>\n",
       "      <td>12.500000</td>\n",
       "      <td>-73.967148</td>\n",
       "      <td>40.767360</td>\n",
       "      <td>-73.963584</td>\n",
       "      <td>40.768167</td>\n",
       "      <td>2.000000</td>\n",
       "    </tr>\n",
       "    <tr>\n",
       "      <th>max</th>\n",
       "      <td>200.000000</td>\n",
       "      <td>40.783472</td>\n",
       "      <td>401.083332</td>\n",
       "      <td>40.851027</td>\n",
       "      <td>43.415190</td>\n",
       "      <td>6.000000</td>\n",
       "    </tr>\n",
       "  </tbody>\n",
       "</table>\n",
       "</div>"
      ],
      "text/plain": [
       "             amount  longitude_of_pickup  latitude_of_pickup  \\\n",
       "count  50000.000000         50000.000000        50000.000000   \n",
       "mean      11.364171           -72.509756           39.933759   \n",
       "std        9.685557            10.393860            6.224857   \n",
       "min       -5.000000           -75.423848          -74.006893   \n",
       "25%        6.000000           -73.992062           40.734880   \n",
       "50%        8.500000           -73.981840           40.752678   \n",
       "75%       12.500000           -73.967148           40.767360   \n",
       "max      200.000000            40.783472          401.083332   \n",
       "\n",
       "       longitude_of_dropoff  latitude_of_dropoff  no_of_passenger  \n",
       "count          50000.000000         50000.000000     50000.000000  \n",
       "mean             -72.504616            39.926251         1.667840  \n",
       "std               10.407570             6.014737         1.289195  \n",
       "min              -84.654241           -74.006377         0.000000  \n",
       "25%              -73.991152            40.734371         1.000000  \n",
       "50%              -73.980082            40.753372         1.000000  \n",
       "75%              -73.963584            40.768167         2.000000  \n",
       "max               40.851027            43.415190         6.000000  "
      ]
     },
     "execution_count": 7,
     "metadata": {},
     "output_type": "execute_result"
    }
   ],
   "source": [
    "taxi_df.describe()"
   ]
  },
  {
   "cell_type": "code",
   "execution_count": 8,
   "metadata": {},
   "outputs": [],
   "source": [
    "#we can observe in one place amount is in - \n",
    "#we can also observe in latitude_of_pickup there is 401,as we know latitude range is -90 to 90"
   ]
  },
  {
   "cell_type": "code",
   "execution_count": 9,
   "metadata": {},
   "outputs": [],
   "source": [
    "taxi_df=taxi_df.reset_index()"
   ]
  },
  {
   "cell_type": "code",
   "execution_count": 10,
   "metadata": {},
   "outputs": [
    {
     "data": {
      "text/html": [
       "<div>\n",
       "<style scoped>\n",
       "    .dataframe tbody tr th:only-of-type {\n",
       "        vertical-align: middle;\n",
       "    }\n",
       "\n",
       "    .dataframe tbody tr th {\n",
       "        vertical-align: top;\n",
       "    }\n",
       "\n",
       "    .dataframe thead th {\n",
       "        text-align: right;\n",
       "    }\n",
       "</style>\n",
       "<table border=\"1\" class=\"dataframe\">\n",
       "  <thead>\n",
       "    <tr style=\"text-align: right;\">\n",
       "      <th></th>\n",
       "      <th>unique_id</th>\n",
       "      <th>amount</th>\n",
       "      <th>date_time_of_pickup</th>\n",
       "      <th>longitude_of_pickup</th>\n",
       "      <th>latitude_of_pickup</th>\n",
       "      <th>longitude_of_dropoff</th>\n",
       "      <th>latitude_of_dropoff</th>\n",
       "      <th>no_of_passenger</th>\n",
       "    </tr>\n",
       "  </thead>\n",
       "  <tbody>\n",
       "    <tr>\n",
       "      <th>0</th>\n",
       "      <td>26:21.0</td>\n",
       "      <td>4.5</td>\n",
       "      <td>2009-06-15 17:26:21+00:00</td>\n",
       "      <td>-73.844311</td>\n",
       "      <td>40.721319</td>\n",
       "      <td>-73.841610</td>\n",
       "      <td>40.712278</td>\n",
       "      <td>1</td>\n",
       "    </tr>\n",
       "    <tr>\n",
       "      <th>1</th>\n",
       "      <td>52:16.0</td>\n",
       "      <td>16.9</td>\n",
       "      <td>2010-01-05 16:52:16+00:00</td>\n",
       "      <td>-74.016048</td>\n",
       "      <td>40.711303</td>\n",
       "      <td>-73.979268</td>\n",
       "      <td>40.782004</td>\n",
       "      <td>1</td>\n",
       "    </tr>\n",
       "    <tr>\n",
       "      <th>2</th>\n",
       "      <td>35:00.0</td>\n",
       "      <td>5.7</td>\n",
       "      <td>2011-08-18 00:35:00+00:00</td>\n",
       "      <td>-73.982738</td>\n",
       "      <td>40.761270</td>\n",
       "      <td>-73.991242</td>\n",
       "      <td>40.750562</td>\n",
       "      <td>2</td>\n",
       "    </tr>\n",
       "    <tr>\n",
       "      <th>3</th>\n",
       "      <td>30:42.0</td>\n",
       "      <td>7.7</td>\n",
       "      <td>2012-04-21 04:30:42+00:00</td>\n",
       "      <td>-73.987130</td>\n",
       "      <td>40.733143</td>\n",
       "      <td>-73.991567</td>\n",
       "      <td>40.758092</td>\n",
       "      <td>1</td>\n",
       "    </tr>\n",
       "    <tr>\n",
       "      <th>4</th>\n",
       "      <td>51:00.0</td>\n",
       "      <td>5.3</td>\n",
       "      <td>2010-03-09 07:51:00+00:00</td>\n",
       "      <td>-73.968095</td>\n",
       "      <td>40.768008</td>\n",
       "      <td>-73.956655</td>\n",
       "      <td>40.783762</td>\n",
       "      <td>1</td>\n",
       "    </tr>\n",
       "  </tbody>\n",
       "</table>\n",
       "</div>"
      ],
      "text/plain": [
       "  unique_id  amount       date_time_of_pickup  longitude_of_pickup  \\\n",
       "0   26:21.0     4.5 2009-06-15 17:26:21+00:00           -73.844311   \n",
       "1   52:16.0    16.9 2010-01-05 16:52:16+00:00           -74.016048   \n",
       "2   35:00.0     5.7 2011-08-18 00:35:00+00:00           -73.982738   \n",
       "3   30:42.0     7.7 2012-04-21 04:30:42+00:00           -73.987130   \n",
       "4   51:00.0     5.3 2010-03-09 07:51:00+00:00           -73.968095   \n",
       "\n",
       "   latitude_of_pickup  longitude_of_dropoff  latitude_of_dropoff  \\\n",
       "0           40.721319            -73.841610            40.712278   \n",
       "1           40.711303            -73.979268            40.782004   \n",
       "2           40.761270            -73.991242            40.750562   \n",
       "3           40.733143            -73.991567            40.758092   \n",
       "4           40.768008            -73.956655            40.783762   \n",
       "\n",
       "   no_of_passenger  \n",
       "0                1  \n",
       "1                1  \n",
       "2                2  \n",
       "3                1  \n",
       "4                1  "
      ]
     },
     "execution_count": 10,
     "metadata": {},
     "output_type": "execute_result"
    }
   ],
   "source": [
    "taxi_df.head()"
   ]
  },
  {
   "cell_type": "code",
   "execution_count": 11,
   "metadata": {},
   "outputs": [],
   "source": [
    "taxi_df.drop(\"unique_id\",axis=1,inplace=True)"
   ]
  },
  {
   "cell_type": "code",
   "execution_count": 12,
   "metadata": {},
   "outputs": [
    {
     "data": {
      "text/html": [
       "<div>\n",
       "<style scoped>\n",
       "    .dataframe tbody tr th:only-of-type {\n",
       "        vertical-align: middle;\n",
       "    }\n",
       "\n",
       "    .dataframe tbody tr th {\n",
       "        vertical-align: top;\n",
       "    }\n",
       "\n",
       "    .dataframe thead th {\n",
       "        text-align: right;\n",
       "    }\n",
       "</style>\n",
       "<table border=\"1\" class=\"dataframe\">\n",
       "  <thead>\n",
       "    <tr style=\"text-align: right;\">\n",
       "      <th></th>\n",
       "      <th>amount</th>\n",
       "      <th>date_time_of_pickup</th>\n",
       "      <th>longitude_of_pickup</th>\n",
       "      <th>latitude_of_pickup</th>\n",
       "      <th>longitude_of_dropoff</th>\n",
       "      <th>latitude_of_dropoff</th>\n",
       "      <th>no_of_passenger</th>\n",
       "    </tr>\n",
       "  </thead>\n",
       "  <tbody>\n",
       "    <tr>\n",
       "      <th>0</th>\n",
       "      <td>4.5</td>\n",
       "      <td>2009-06-15 17:26:21+00:00</td>\n",
       "      <td>-73.844311</td>\n",
       "      <td>40.721319</td>\n",
       "      <td>-73.841610</td>\n",
       "      <td>40.712278</td>\n",
       "      <td>1</td>\n",
       "    </tr>\n",
       "    <tr>\n",
       "      <th>1</th>\n",
       "      <td>16.9</td>\n",
       "      <td>2010-01-05 16:52:16+00:00</td>\n",
       "      <td>-74.016048</td>\n",
       "      <td>40.711303</td>\n",
       "      <td>-73.979268</td>\n",
       "      <td>40.782004</td>\n",
       "      <td>1</td>\n",
       "    </tr>\n",
       "    <tr>\n",
       "      <th>2</th>\n",
       "      <td>5.7</td>\n",
       "      <td>2011-08-18 00:35:00+00:00</td>\n",
       "      <td>-73.982738</td>\n",
       "      <td>40.761270</td>\n",
       "      <td>-73.991242</td>\n",
       "      <td>40.750562</td>\n",
       "      <td>2</td>\n",
       "    </tr>\n",
       "    <tr>\n",
       "      <th>3</th>\n",
       "      <td>7.7</td>\n",
       "      <td>2012-04-21 04:30:42+00:00</td>\n",
       "      <td>-73.987130</td>\n",
       "      <td>40.733143</td>\n",
       "      <td>-73.991567</td>\n",
       "      <td>40.758092</td>\n",
       "      <td>1</td>\n",
       "    </tr>\n",
       "    <tr>\n",
       "      <th>4</th>\n",
       "      <td>5.3</td>\n",
       "      <td>2010-03-09 07:51:00+00:00</td>\n",
       "      <td>-73.968095</td>\n",
       "      <td>40.768008</td>\n",
       "      <td>-73.956655</td>\n",
       "      <td>40.783762</td>\n",
       "      <td>1</td>\n",
       "    </tr>\n",
       "  </tbody>\n",
       "</table>\n",
       "</div>"
      ],
      "text/plain": [
       "   amount       date_time_of_pickup  longitude_of_pickup  latitude_of_pickup  \\\n",
       "0     4.5 2009-06-15 17:26:21+00:00           -73.844311           40.721319   \n",
       "1    16.9 2010-01-05 16:52:16+00:00           -74.016048           40.711303   \n",
       "2     5.7 2011-08-18 00:35:00+00:00           -73.982738           40.761270   \n",
       "3     7.7 2012-04-21 04:30:42+00:00           -73.987130           40.733143   \n",
       "4     5.3 2010-03-09 07:51:00+00:00           -73.968095           40.768008   \n",
       "\n",
       "   longitude_of_dropoff  latitude_of_dropoff  no_of_passenger  \n",
       "0            -73.841610            40.712278                1  \n",
       "1            -73.979268            40.782004                1  \n",
       "2            -73.991242            40.750562                2  \n",
       "3            -73.991567            40.758092                1  \n",
       "4            -73.956655            40.783762                1  "
      ]
     },
     "execution_count": 12,
     "metadata": {},
     "output_type": "execute_result"
    }
   ],
   "source": [
    "taxi_df.head()"
   ]
  },
  {
   "cell_type": "code",
   "execution_count": 13,
   "metadata": {},
   "outputs": [
    {
     "data": {
      "text/html": [
       "<div>\n",
       "<style scoped>\n",
       "    .dataframe tbody tr th:only-of-type {\n",
       "        vertical-align: middle;\n",
       "    }\n",
       "\n",
       "    .dataframe tbody tr th {\n",
       "        vertical-align: top;\n",
       "    }\n",
       "\n",
       "    .dataframe thead th {\n",
       "        text-align: right;\n",
       "    }\n",
       "</style>\n",
       "<table border=\"1\" class=\"dataframe\">\n",
       "  <thead>\n",
       "    <tr style=\"text-align: right;\">\n",
       "      <th></th>\n",
       "      <th>amount</th>\n",
       "      <th>date_time_of_pickup</th>\n",
       "      <th>longitude_of_pickup</th>\n",
       "      <th>latitude_of_pickup</th>\n",
       "      <th>longitude_of_dropoff</th>\n",
       "      <th>latitude_of_dropoff</th>\n",
       "      <th>no_of_passenger</th>\n",
       "    </tr>\n",
       "  </thead>\n",
       "  <tbody>\n",
       "    <tr>\n",
       "      <th>2039</th>\n",
       "      <td>-2.9</td>\n",
       "      <td>2010-03-09 23:37:10+00:00</td>\n",
       "      <td>-73.789450</td>\n",
       "      <td>40.643498</td>\n",
       "      <td>-73.788665</td>\n",
       "      <td>40.641952</td>\n",
       "      <td>1</td>\n",
       "    </tr>\n",
       "    <tr>\n",
       "      <th>2486</th>\n",
       "      <td>-2.5</td>\n",
       "      <td>2015-03-22 05:14:27+00:00</td>\n",
       "      <td>-74.000031</td>\n",
       "      <td>40.720631</td>\n",
       "      <td>-73.999809</td>\n",
       "      <td>40.720539</td>\n",
       "      <td>1</td>\n",
       "    </tr>\n",
       "    <tr>\n",
       "      <th>10002</th>\n",
       "      <td>0.0</td>\n",
       "      <td>2010-02-15 14:26:01+00:00</td>\n",
       "      <td>-73.987115</td>\n",
       "      <td>40.738808</td>\n",
       "      <td>-74.005911</td>\n",
       "      <td>40.713960</td>\n",
       "      <td>1</td>\n",
       "    </tr>\n",
       "    <tr>\n",
       "      <th>13032</th>\n",
       "      <td>-3.0</td>\n",
       "      <td>2013-08-30 08:57:10+00:00</td>\n",
       "      <td>-73.995062</td>\n",
       "      <td>40.740755</td>\n",
       "      <td>-73.995885</td>\n",
       "      <td>40.741357</td>\n",
       "      <td>4</td>\n",
       "    </tr>\n",
       "    <tr>\n",
       "      <th>27891</th>\n",
       "      <td>0.0</td>\n",
       "      <td>2015-05-15 21:40:28+00:00</td>\n",
       "      <td>-74.077927</td>\n",
       "      <td>40.805714</td>\n",
       "      <td>-74.077919</td>\n",
       "      <td>40.805721</td>\n",
       "      <td>1</td>\n",
       "    </tr>\n",
       "    <tr>\n",
       "      <th>28839</th>\n",
       "      <td>-2.5</td>\n",
       "      <td>2013-08-11 13:39:10+00:00</td>\n",
       "      <td>-73.785260</td>\n",
       "      <td>40.648442</td>\n",
       "      <td>0.000000</td>\n",
       "      <td>0.000000</td>\n",
       "      <td>1</td>\n",
       "    </tr>\n",
       "    <tr>\n",
       "      <th>36722</th>\n",
       "      <td>-2.5</td>\n",
       "      <td>2015-04-30 15:19:45+00:00</td>\n",
       "      <td>-73.952187</td>\n",
       "      <td>40.790112</td>\n",
       "      <td>-73.950043</td>\n",
       "      <td>40.792839</td>\n",
       "      <td>1</td>\n",
       "    </tr>\n",
       "    <tr>\n",
       "      <th>42337</th>\n",
       "      <td>-5.0</td>\n",
       "      <td>2015-03-09 10:29:46+00:00</td>\n",
       "      <td>-73.990974</td>\n",
       "      <td>40.755985</td>\n",
       "      <td>-73.980820</td>\n",
       "      <td>40.759869</td>\n",
       "      <td>1</td>\n",
       "    </tr>\n",
       "    <tr>\n",
       "      <th>47302</th>\n",
       "      <td>0.0</td>\n",
       "      <td>2010-03-18 19:13:39+00:00</td>\n",
       "      <td>-73.942346</td>\n",
       "      <td>40.806269</td>\n",
       "      <td>-73.942463</td>\n",
       "      <td>40.806129</td>\n",
       "      <td>1</td>\n",
       "    </tr>\n",
       "  </tbody>\n",
       "</table>\n",
       "</div>"
      ],
      "text/plain": [
       "       amount       date_time_of_pickup  longitude_of_pickup  \\\n",
       "2039     -2.9 2010-03-09 23:37:10+00:00           -73.789450   \n",
       "2486     -2.5 2015-03-22 05:14:27+00:00           -74.000031   \n",
       "10002     0.0 2010-02-15 14:26:01+00:00           -73.987115   \n",
       "13032    -3.0 2013-08-30 08:57:10+00:00           -73.995062   \n",
       "27891     0.0 2015-05-15 21:40:28+00:00           -74.077927   \n",
       "28839    -2.5 2013-08-11 13:39:10+00:00           -73.785260   \n",
       "36722    -2.5 2015-04-30 15:19:45+00:00           -73.952187   \n",
       "42337    -5.0 2015-03-09 10:29:46+00:00           -73.990974   \n",
       "47302     0.0 2010-03-18 19:13:39+00:00           -73.942346   \n",
       "\n",
       "       latitude_of_pickup  longitude_of_dropoff  latitude_of_dropoff  \\\n",
       "2039            40.643498            -73.788665            40.641952   \n",
       "2486            40.720631            -73.999809            40.720539   \n",
       "10002           40.738808            -74.005911            40.713960   \n",
       "13032           40.740755            -73.995885            40.741357   \n",
       "27891           40.805714            -74.077919            40.805721   \n",
       "28839           40.648442              0.000000             0.000000   \n",
       "36722           40.790112            -73.950043            40.792839   \n",
       "42337           40.755985            -73.980820            40.759869   \n",
       "47302           40.806269            -73.942463            40.806129   \n",
       "\n",
       "       no_of_passenger  \n",
       "2039                 1  \n",
       "2486                 1  \n",
       "10002                1  \n",
       "13032                4  \n",
       "27891                1  \n",
       "28839                1  \n",
       "36722                1  \n",
       "42337                1  \n",
       "47302                1  "
      ]
     },
     "execution_count": 13,
     "metadata": {},
     "output_type": "execute_result"
    }
   ],
   "source": [
    "taxi_df[taxi_df.amount<=0]      #this much code to see the data for those whose amount is less than or equal to 0"
   ]
  },
  {
   "cell_type": "code",
   "execution_count": 14,
   "metadata": {},
   "outputs": [
    {
     "data": {
      "text/plain": [
       "Int64Index([2039, 2486, 10002, 13032, 27891, 28839, 36722, 42337, 47302], dtype='int64')"
      ]
     },
     "execution_count": 14,
     "metadata": {},
     "output_type": "execute_result"
    }
   ],
   "source": [
    "taxi_df[taxi_df.amount<=0].index"
   ]
  },
  {
   "cell_type": "code",
   "execution_count": 15,
   "metadata": {},
   "outputs": [],
   "source": [
    "taxi_df.drop(taxi_df[taxi_df.amount<=0].index,axis=0,inplace=True)"
   ]
  },
  {
   "cell_type": "code",
   "execution_count": 16,
   "metadata": {},
   "outputs": [
    {
     "data": {
      "text/plain": [
       "(49991, 7)"
      ]
     },
     "execution_count": 16,
     "metadata": {},
     "output_type": "execute_result"
    }
   ],
   "source": [
    "taxi_df.shape    #because we have deleted 9 observation whose amount is less than or equal to 0. "
   ]
  },
  {
   "cell_type": "code",
   "execution_count": 17,
   "metadata": {},
   "outputs": [],
   "source": [
    "# extract various date time components as seperate variables\n",
    "taxi_df = taxi_df.assign(hour = taxi_df.date_time_of_pickup.dt.hour, \n",
    "                         day = taxi_df.date_time_of_pickup.dt.day,\n",
    "                        month = taxi_df.date_time_of_pickup.dt.month, \n",
    "                        year = taxi_df.date_time_of_pickup.dt.year, \n",
    "                        dayofweek = taxi_df.date_time_of_pickup.dt.dayofweek)"
   ]
  },
  {
   "cell_type": "code",
   "execution_count": 18,
   "metadata": {},
   "outputs": [
    {
     "data": {
      "text/html": [
       "<div>\n",
       "<style scoped>\n",
       "    .dataframe tbody tr th:only-of-type {\n",
       "        vertical-align: middle;\n",
       "    }\n",
       "\n",
       "    .dataframe tbody tr th {\n",
       "        vertical-align: top;\n",
       "    }\n",
       "\n",
       "    .dataframe thead th {\n",
       "        text-align: right;\n",
       "    }\n",
       "</style>\n",
       "<table border=\"1\" class=\"dataframe\">\n",
       "  <thead>\n",
       "    <tr style=\"text-align: right;\">\n",
       "      <th></th>\n",
       "      <th>amount</th>\n",
       "      <th>date_time_of_pickup</th>\n",
       "      <th>longitude_of_pickup</th>\n",
       "      <th>latitude_of_pickup</th>\n",
       "      <th>longitude_of_dropoff</th>\n",
       "      <th>latitude_of_dropoff</th>\n",
       "      <th>no_of_passenger</th>\n",
       "      <th>hour</th>\n",
       "      <th>day</th>\n",
       "      <th>month</th>\n",
       "      <th>year</th>\n",
       "      <th>dayofweek</th>\n",
       "    </tr>\n",
       "  </thead>\n",
       "  <tbody>\n",
       "    <tr>\n",
       "      <th>0</th>\n",
       "      <td>4.5</td>\n",
       "      <td>2009-06-15 17:26:21+00:00</td>\n",
       "      <td>-73.844311</td>\n",
       "      <td>40.721319</td>\n",
       "      <td>-73.841610</td>\n",
       "      <td>40.712278</td>\n",
       "      <td>1</td>\n",
       "      <td>17</td>\n",
       "      <td>15</td>\n",
       "      <td>6</td>\n",
       "      <td>2009</td>\n",
       "      <td>0</td>\n",
       "    </tr>\n",
       "    <tr>\n",
       "      <th>1</th>\n",
       "      <td>16.9</td>\n",
       "      <td>2010-01-05 16:52:16+00:00</td>\n",
       "      <td>-74.016048</td>\n",
       "      <td>40.711303</td>\n",
       "      <td>-73.979268</td>\n",
       "      <td>40.782004</td>\n",
       "      <td>1</td>\n",
       "      <td>16</td>\n",
       "      <td>5</td>\n",
       "      <td>1</td>\n",
       "      <td>2010</td>\n",
       "      <td>1</td>\n",
       "    </tr>\n",
       "    <tr>\n",
       "      <th>2</th>\n",
       "      <td>5.7</td>\n",
       "      <td>2011-08-18 00:35:00+00:00</td>\n",
       "      <td>-73.982738</td>\n",
       "      <td>40.761270</td>\n",
       "      <td>-73.991242</td>\n",
       "      <td>40.750562</td>\n",
       "      <td>2</td>\n",
       "      <td>0</td>\n",
       "      <td>18</td>\n",
       "      <td>8</td>\n",
       "      <td>2011</td>\n",
       "      <td>3</td>\n",
       "    </tr>\n",
       "    <tr>\n",
       "      <th>3</th>\n",
       "      <td>7.7</td>\n",
       "      <td>2012-04-21 04:30:42+00:00</td>\n",
       "      <td>-73.987130</td>\n",
       "      <td>40.733143</td>\n",
       "      <td>-73.991567</td>\n",
       "      <td>40.758092</td>\n",
       "      <td>1</td>\n",
       "      <td>4</td>\n",
       "      <td>21</td>\n",
       "      <td>4</td>\n",
       "      <td>2012</td>\n",
       "      <td>5</td>\n",
       "    </tr>\n",
       "    <tr>\n",
       "      <th>4</th>\n",
       "      <td>5.3</td>\n",
       "      <td>2010-03-09 07:51:00+00:00</td>\n",
       "      <td>-73.968095</td>\n",
       "      <td>40.768008</td>\n",
       "      <td>-73.956655</td>\n",
       "      <td>40.783762</td>\n",
       "      <td>1</td>\n",
       "      <td>7</td>\n",
       "      <td>9</td>\n",
       "      <td>3</td>\n",
       "      <td>2010</td>\n",
       "      <td>1</td>\n",
       "    </tr>\n",
       "  </tbody>\n",
       "</table>\n",
       "</div>"
      ],
      "text/plain": [
       "   amount       date_time_of_pickup  longitude_of_pickup  latitude_of_pickup  \\\n",
       "0     4.5 2009-06-15 17:26:21+00:00           -73.844311           40.721319   \n",
       "1    16.9 2010-01-05 16:52:16+00:00           -74.016048           40.711303   \n",
       "2     5.7 2011-08-18 00:35:00+00:00           -73.982738           40.761270   \n",
       "3     7.7 2012-04-21 04:30:42+00:00           -73.987130           40.733143   \n",
       "4     5.3 2010-03-09 07:51:00+00:00           -73.968095           40.768008   \n",
       "\n",
       "   longitude_of_dropoff  latitude_of_dropoff  no_of_passenger  hour  day  \\\n",
       "0            -73.841610            40.712278                1    17   15   \n",
       "1            -73.979268            40.782004                1    16    5   \n",
       "2            -73.991242            40.750562                2     0   18   \n",
       "3            -73.991567            40.758092                1     4   21   \n",
       "4            -73.956655            40.783762                1     7    9   \n",
       "\n",
       "   month  year  dayofweek  \n",
       "0      6  2009          0  \n",
       "1      1  2010          1  \n",
       "2      8  2011          3  \n",
       "3      4  2012          5  \n",
       "4      3  2010          1  "
      ]
     },
     "execution_count": 18,
     "metadata": {},
     "output_type": "execute_result"
    }
   ],
   "source": [
    "taxi_df.head()"
   ]
  },
  {
   "cell_type": "code",
   "execution_count": 19,
   "metadata": {},
   "outputs": [],
   "source": [
    "taxi_df.drop('date_time_of_pickup',axis=1,inplace=True)"
   ]
  },
  {
   "cell_type": "code",
   "execution_count": 20,
   "metadata": {},
   "outputs": [
    {
     "data": {
      "text/html": [
       "<div>\n",
       "<style scoped>\n",
       "    .dataframe tbody tr th:only-of-type {\n",
       "        vertical-align: middle;\n",
       "    }\n",
       "\n",
       "    .dataframe tbody tr th {\n",
       "        vertical-align: top;\n",
       "    }\n",
       "\n",
       "    .dataframe thead th {\n",
       "        text-align: right;\n",
       "    }\n",
       "</style>\n",
       "<table border=\"1\" class=\"dataframe\">\n",
       "  <thead>\n",
       "    <tr style=\"text-align: right;\">\n",
       "      <th></th>\n",
       "      <th>amount</th>\n",
       "      <th>longitude_of_pickup</th>\n",
       "      <th>latitude_of_pickup</th>\n",
       "      <th>longitude_of_dropoff</th>\n",
       "      <th>latitude_of_dropoff</th>\n",
       "      <th>no_of_passenger</th>\n",
       "      <th>hour</th>\n",
       "      <th>day</th>\n",
       "      <th>month</th>\n",
       "      <th>year</th>\n",
       "      <th>dayofweek</th>\n",
       "    </tr>\n",
       "  </thead>\n",
       "  <tbody>\n",
       "    <tr>\n",
       "      <th>0</th>\n",
       "      <td>4.5</td>\n",
       "      <td>-73.844311</td>\n",
       "      <td>40.721319</td>\n",
       "      <td>-73.841610</td>\n",
       "      <td>40.712278</td>\n",
       "      <td>1</td>\n",
       "      <td>17</td>\n",
       "      <td>15</td>\n",
       "      <td>6</td>\n",
       "      <td>2009</td>\n",
       "      <td>0</td>\n",
       "    </tr>\n",
       "    <tr>\n",
       "      <th>1</th>\n",
       "      <td>16.9</td>\n",
       "      <td>-74.016048</td>\n",
       "      <td>40.711303</td>\n",
       "      <td>-73.979268</td>\n",
       "      <td>40.782004</td>\n",
       "      <td>1</td>\n",
       "      <td>16</td>\n",
       "      <td>5</td>\n",
       "      <td>1</td>\n",
       "      <td>2010</td>\n",
       "      <td>1</td>\n",
       "    </tr>\n",
       "    <tr>\n",
       "      <th>2</th>\n",
       "      <td>5.7</td>\n",
       "      <td>-73.982738</td>\n",
       "      <td>40.761270</td>\n",
       "      <td>-73.991242</td>\n",
       "      <td>40.750562</td>\n",
       "      <td>2</td>\n",
       "      <td>0</td>\n",
       "      <td>18</td>\n",
       "      <td>8</td>\n",
       "      <td>2011</td>\n",
       "      <td>3</td>\n",
       "    </tr>\n",
       "    <tr>\n",
       "      <th>3</th>\n",
       "      <td>7.7</td>\n",
       "      <td>-73.987130</td>\n",
       "      <td>40.733143</td>\n",
       "      <td>-73.991567</td>\n",
       "      <td>40.758092</td>\n",
       "      <td>1</td>\n",
       "      <td>4</td>\n",
       "      <td>21</td>\n",
       "      <td>4</td>\n",
       "      <td>2012</td>\n",
       "      <td>5</td>\n",
       "    </tr>\n",
       "    <tr>\n",
       "      <th>4</th>\n",
       "      <td>5.3</td>\n",
       "      <td>-73.968095</td>\n",
       "      <td>40.768008</td>\n",
       "      <td>-73.956655</td>\n",
       "      <td>40.783762</td>\n",
       "      <td>1</td>\n",
       "      <td>7</td>\n",
       "      <td>9</td>\n",
       "      <td>3</td>\n",
       "      <td>2010</td>\n",
       "      <td>1</td>\n",
       "    </tr>\n",
       "  </tbody>\n",
       "</table>\n",
       "</div>"
      ],
      "text/plain": [
       "   amount  longitude_of_pickup  latitude_of_pickup  longitude_of_dropoff  \\\n",
       "0     4.5           -73.844311           40.721319            -73.841610   \n",
       "1    16.9           -74.016048           40.711303            -73.979268   \n",
       "2     5.7           -73.982738           40.761270            -73.991242   \n",
       "3     7.7           -73.987130           40.733143            -73.991567   \n",
       "4     5.3           -73.968095           40.768008            -73.956655   \n",
       "\n",
       "   latitude_of_dropoff  no_of_passenger  hour  day  month  year  dayofweek  \n",
       "0            40.712278                1    17   15      6  2009          0  \n",
       "1            40.782004                1    16    5      1  2010          1  \n",
       "2            40.750562                2     0   18      8  2011          3  \n",
       "3            40.758092                1     4   21      4  2012          5  \n",
       "4            40.783762                1     7    9      3  2010          1  "
      ]
     },
     "execution_count": 20,
     "metadata": {},
     "output_type": "execute_result"
    }
   ],
   "source": [
    "taxi_df.head()"
   ]
  },
  {
   "cell_type": "code",
   "execution_count": 21,
   "metadata": {},
   "outputs": [
    {
     "data": {
      "text/plain": [
       "0.000000     955\n",
       "41.366138     18\n",
       "40.756007     10\n",
       "40.763975      8\n",
       "40.774047      7\n",
       "            ... \n",
       "40.764118      1\n",
       "40.774749      1\n",
       "40.758518      1\n",
       "40.724528      1\n",
       "40.722312      1\n",
       "Name: latitude_of_pickup, Length: 36587, dtype: int64"
      ]
     },
     "execution_count": 21,
     "metadata": {},
     "output_type": "execute_result"
    }
   ],
   "source": [
    "taxi_df['latitude_of_pickup'].value_counts()"
   ]
  },
  {
   "cell_type": "code",
   "execution_count": 22,
   "metadata": {},
   "outputs": [],
   "source": [
    "taxi_df.drop(taxi_df[taxi_df.latitude_of_pickup==0].index,inplace=True)"
   ]
  },
  {
   "cell_type": "code",
   "execution_count": 23,
   "metadata": {},
   "outputs": [
    {
     "data": {
      "text/plain": [
       "(49036, 11)"
      ]
     },
     "execution_count": 23,
     "metadata": {},
     "output_type": "execute_result"
    }
   ],
   "source": [
    "taxi_df.shape"
   ]
  },
  {
   "cell_type": "code",
   "execution_count": 24,
   "metadata": {},
   "outputs": [
    {
     "data": {
      "text/plain": [
       "Float64Index([        -74.006893,          -74.00621, -74.00402700000001,\n",
       "                         -73.995,         -73.992947,          -73.99184,\n",
       "                      -73.988467,         -73.987585,         -73.987307,\n",
       "                      -73.986968,\n",
       "              ...\n",
       "                        41.03249,          41.035688,          41.150487,\n",
       "                       41.366138,          41.391042, 41.523216999999995,\n",
       "                           41.65,          42.160275,          43.098708,\n",
       "                      401.083332],\n",
       "             dtype='float64', length=36586)"
      ]
     },
     "execution_count": 24,
     "metadata": {},
     "output_type": "execute_result"
    }
   ],
   "source": [
    "taxi_df['latitude_of_pickup'].value_counts().index.sort_values(ascending=True)"
   ]
  },
  {
   "cell_type": "code",
   "execution_count": 25,
   "metadata": {},
   "outputs": [],
   "source": [
    "taxi_df['latitude_of_pickup'].replace(401.083332,40.1083332,inplace=True)"
   ]
  },
  {
   "cell_type": "code",
   "execution_count": 26,
   "metadata": {},
   "outputs": [
    {
     "data": {
      "text/html": [
       "<div>\n",
       "<style scoped>\n",
       "    .dataframe tbody tr th:only-of-type {\n",
       "        vertical-align: middle;\n",
       "    }\n",
       "\n",
       "    .dataframe tbody tr th {\n",
       "        vertical-align: top;\n",
       "    }\n",
       "\n",
       "    .dataframe thead th {\n",
       "        text-align: right;\n",
       "    }\n",
       "</style>\n",
       "<table border=\"1\" class=\"dataframe\">\n",
       "  <thead>\n",
       "    <tr style=\"text-align: right;\">\n",
       "      <th></th>\n",
       "      <th>amount</th>\n",
       "      <th>longitude_of_pickup</th>\n",
       "      <th>latitude_of_pickup</th>\n",
       "      <th>longitude_of_dropoff</th>\n",
       "      <th>latitude_of_dropoff</th>\n",
       "      <th>no_of_passenger</th>\n",
       "      <th>hour</th>\n",
       "      <th>day</th>\n",
       "      <th>month</th>\n",
       "      <th>year</th>\n",
       "      <th>dayofweek</th>\n",
       "    </tr>\n",
       "  </thead>\n",
       "  <tbody>\n",
       "    <tr>\n",
       "      <th>count</th>\n",
       "      <td>49036.000000</td>\n",
       "      <td>49036.000000</td>\n",
       "      <td>49036.000000</td>\n",
       "      <td>49036.000000</td>\n",
       "      <td>49036.000000</td>\n",
       "      <td>49036.000000</td>\n",
       "      <td>49036.000000</td>\n",
       "      <td>49036.000000</td>\n",
       "      <td>49036.000000</td>\n",
       "      <td>49036.000000</td>\n",
       "      <td>49036.000000</td>\n",
       "    </tr>\n",
       "    <tr>\n",
       "      <th>mean</th>\n",
       "      <td>11.363740</td>\n",
       "      <td>-73.921654</td>\n",
       "      <td>40.703979</td>\n",
       "      <td>-73.856066</td>\n",
       "      <td>40.670447</td>\n",
       "      <td>1.669263</td>\n",
       "      <td>13.483604</td>\n",
       "      <td>15.667469</td>\n",
       "      <td>6.272963</td>\n",
       "      <td>2011.740130</td>\n",
       "      <td>3.031059</td>\n",
       "    </tr>\n",
       "    <tr>\n",
       "      <th>std</th>\n",
       "      <td>9.660557</td>\n",
       "      <td>2.400981</td>\n",
       "      <td>2.280142</td>\n",
       "      <td>3.243994</td>\n",
       "      <td>2.566619</td>\n",
       "      <td>1.290387</td>\n",
       "      <td>6.503392</td>\n",
       "      <td>8.659836</td>\n",
       "      <td>3.460896</td>\n",
       "      <td>1.864741</td>\n",
       "      <td>1.956120</td>\n",
       "    </tr>\n",
       "    <tr>\n",
       "      <th>min</th>\n",
       "      <td>0.010000</td>\n",
       "      <td>-75.423848</td>\n",
       "      <td>-74.006893</td>\n",
       "      <td>-84.654241</td>\n",
       "      <td>-74.006377</td>\n",
       "      <td>0.000000</td>\n",
       "      <td>0.000000</td>\n",
       "      <td>1.000000</td>\n",
       "      <td>1.000000</td>\n",
       "      <td>2009.000000</td>\n",
       "      <td>0.000000</td>\n",
       "    </tr>\n",
       "    <tr>\n",
       "      <th>25%</th>\n",
       "      <td>6.000000</td>\n",
       "      <td>-73.992297</td>\n",
       "      <td>40.736466</td>\n",
       "      <td>-73.991315</td>\n",
       "      <td>40.735774</td>\n",
       "      <td>1.000000</td>\n",
       "      <td>9.000000</td>\n",
       "      <td>8.000000</td>\n",
       "      <td>3.000000</td>\n",
       "      <td>2010.000000</td>\n",
       "      <td>1.000000</td>\n",
       "    </tr>\n",
       "    <tr>\n",
       "      <th>50%</th>\n",
       "      <td>8.500000</td>\n",
       "      <td>-73.982112</td>\n",
       "      <td>40.753405</td>\n",
       "      <td>-73.980447</td>\n",
       "      <td>40.754045</td>\n",
       "      <td>1.000000</td>\n",
       "      <td>14.000000</td>\n",
       "      <td>16.000000</td>\n",
       "      <td>6.000000</td>\n",
       "      <td>2012.000000</td>\n",
       "      <td>3.000000</td>\n",
       "    </tr>\n",
       "    <tr>\n",
       "      <th>75%</th>\n",
       "      <td>12.500000</td>\n",
       "      <td>-73.968348</td>\n",
       "      <td>40.767739</td>\n",
       "      <td>-73.965184</td>\n",
       "      <td>40.768463</td>\n",
       "      <td>2.000000</td>\n",
       "      <td>19.000000</td>\n",
       "      <td>23.000000</td>\n",
       "      <td>9.000000</td>\n",
       "      <td>2013.000000</td>\n",
       "      <td>5.000000</td>\n",
       "    </tr>\n",
       "    <tr>\n",
       "      <th>max</th>\n",
       "      <td>200.000000</td>\n",
       "      <td>40.783472</td>\n",
       "      <td>43.098708</td>\n",
       "      <td>40.851027</td>\n",
       "      <td>43.415190</td>\n",
       "      <td>6.000000</td>\n",
       "      <td>23.000000</td>\n",
       "      <td>31.000000</td>\n",
       "      <td>12.000000</td>\n",
       "      <td>2015.000000</td>\n",
       "      <td>6.000000</td>\n",
       "    </tr>\n",
       "  </tbody>\n",
       "</table>\n",
       "</div>"
      ],
      "text/plain": [
       "             amount  longitude_of_pickup  latitude_of_pickup  \\\n",
       "count  49036.000000         49036.000000        49036.000000   \n",
       "mean      11.363740           -73.921654           40.703979   \n",
       "std        9.660557             2.400981            2.280142   \n",
       "min        0.010000           -75.423848          -74.006893   \n",
       "25%        6.000000           -73.992297           40.736466   \n",
       "50%        8.500000           -73.982112           40.753405   \n",
       "75%       12.500000           -73.968348           40.767739   \n",
       "max      200.000000            40.783472           43.098708   \n",
       "\n",
       "       longitude_of_dropoff  latitude_of_dropoff  no_of_passenger  \\\n",
       "count          49036.000000         49036.000000     49036.000000   \n",
       "mean             -73.856066            40.670447         1.669263   \n",
       "std                3.243994             2.566619         1.290387   \n",
       "min              -84.654241           -74.006377         0.000000   \n",
       "25%              -73.991315            40.735774         1.000000   \n",
       "50%              -73.980447            40.754045         1.000000   \n",
       "75%              -73.965184            40.768463         2.000000   \n",
       "max               40.851027            43.415190         6.000000   \n",
       "\n",
       "               hour           day         month          year     dayofweek  \n",
       "count  49036.000000  49036.000000  49036.000000  49036.000000  49036.000000  \n",
       "mean      13.483604     15.667469      6.272963   2011.740130      3.031059  \n",
       "std        6.503392      8.659836      3.460896      1.864741      1.956120  \n",
       "min        0.000000      1.000000      1.000000   2009.000000      0.000000  \n",
       "25%        9.000000      8.000000      3.000000   2010.000000      1.000000  \n",
       "50%       14.000000     16.000000      6.000000   2012.000000      3.000000  \n",
       "75%       19.000000     23.000000      9.000000   2013.000000      5.000000  \n",
       "max       23.000000     31.000000     12.000000   2015.000000      6.000000  "
      ]
     },
     "execution_count": 26,
     "metadata": {},
     "output_type": "execute_result"
    }
   ],
   "source": [
    "taxi_df.describe()"
   ]
  },
  {
   "cell_type": "code",
   "execution_count": 27,
   "metadata": {},
   "outputs": [],
   "source": [
    "#Now we will convert latitude and longitude of pickup and dropoff in Km by using haversine "
   ]
  },
  {
   "cell_type": "code",
   "execution_count": 28,
   "metadata": {},
   "outputs": [
    {
     "name": "stdout",
     "output_type": "stream",
     "text": [
      "Requirement already satisfied: haversine in c:\\users\\pradeepkumar verma\\updated anaconda\\lib\\site-packages (2.8.0)\n"
     ]
    }
   ],
   "source": [
    "!pip install haversine"
   ]
  },
  {
   "cell_type": "code",
   "execution_count": 29,
   "metadata": {},
   "outputs": [],
   "source": [
    "from haversine import haversine, Unit\n",
    "#df.apply(lambda x: func(x['col1'],x['col2']),axis=1)\n",
    "#haversine((lat1,long1),(lat2,long2))\n",
    "taxi_df['travel_dist_km']=taxi_df.apply(lambda row: haversine((row[\"latitude_of_pickup\"],row[\"longitude_of_pickup\"]),\n",
    "                                                              (row[\"latitude_of_dropoff\"],row[\"longitude_of_dropoff\"]),\n",
    "                                                              unit=Unit.KILOMETERS),axis=1)"
   ]
  },
  {
   "cell_type": "code",
   "execution_count": 30,
   "metadata": {},
   "outputs": [
    {
     "data": {
      "text/html": [
       "<div>\n",
       "<style scoped>\n",
       "    .dataframe tbody tr th:only-of-type {\n",
       "        vertical-align: middle;\n",
       "    }\n",
       "\n",
       "    .dataframe tbody tr th {\n",
       "        vertical-align: top;\n",
       "    }\n",
       "\n",
       "    .dataframe thead th {\n",
       "        text-align: right;\n",
       "    }\n",
       "</style>\n",
       "<table border=\"1\" class=\"dataframe\">\n",
       "  <thead>\n",
       "    <tr style=\"text-align: right;\">\n",
       "      <th></th>\n",
       "      <th>amount</th>\n",
       "      <th>longitude_of_pickup</th>\n",
       "      <th>latitude_of_pickup</th>\n",
       "      <th>longitude_of_dropoff</th>\n",
       "      <th>latitude_of_dropoff</th>\n",
       "      <th>no_of_passenger</th>\n",
       "      <th>hour</th>\n",
       "      <th>day</th>\n",
       "      <th>month</th>\n",
       "      <th>year</th>\n",
       "      <th>dayofweek</th>\n",
       "      <th>travel_dist_km</th>\n",
       "    </tr>\n",
       "  </thead>\n",
       "  <tbody>\n",
       "    <tr>\n",
       "      <th>0</th>\n",
       "      <td>4.5</td>\n",
       "      <td>-73.844311</td>\n",
       "      <td>40.721319</td>\n",
       "      <td>-73.841610</td>\n",
       "      <td>40.712278</td>\n",
       "      <td>1</td>\n",
       "      <td>17</td>\n",
       "      <td>15</td>\n",
       "      <td>6</td>\n",
       "      <td>2009</td>\n",
       "      <td>0</td>\n",
       "      <td>1.030765</td>\n",
       "    </tr>\n",
       "    <tr>\n",
       "      <th>1</th>\n",
       "      <td>16.9</td>\n",
       "      <td>-74.016048</td>\n",
       "      <td>40.711303</td>\n",
       "      <td>-73.979268</td>\n",
       "      <td>40.782004</td>\n",
       "      <td>1</td>\n",
       "      <td>16</td>\n",
       "      <td>5</td>\n",
       "      <td>1</td>\n",
       "      <td>2010</td>\n",
       "      <td>1</td>\n",
       "      <td>8.450145</td>\n",
       "    </tr>\n",
       "    <tr>\n",
       "      <th>2</th>\n",
       "      <td>5.7</td>\n",
       "      <td>-73.982738</td>\n",
       "      <td>40.761270</td>\n",
       "      <td>-73.991242</td>\n",
       "      <td>40.750562</td>\n",
       "      <td>2</td>\n",
       "      <td>0</td>\n",
       "      <td>18</td>\n",
       "      <td>8</td>\n",
       "      <td>2011</td>\n",
       "      <td>3</td>\n",
       "      <td>1.389527</td>\n",
       "    </tr>\n",
       "    <tr>\n",
       "      <th>3</th>\n",
       "      <td>7.7</td>\n",
       "      <td>-73.987130</td>\n",
       "      <td>40.733143</td>\n",
       "      <td>-73.991567</td>\n",
       "      <td>40.758092</td>\n",
       "      <td>1</td>\n",
       "      <td>4</td>\n",
       "      <td>21</td>\n",
       "      <td>4</td>\n",
       "      <td>2012</td>\n",
       "      <td>5</td>\n",
       "      <td>2.799274</td>\n",
       "    </tr>\n",
       "    <tr>\n",
       "      <th>4</th>\n",
       "      <td>5.3</td>\n",
       "      <td>-73.968095</td>\n",
       "      <td>40.768008</td>\n",
       "      <td>-73.956655</td>\n",
       "      <td>40.783762</td>\n",
       "      <td>1</td>\n",
       "      <td>7</td>\n",
       "      <td>9</td>\n",
       "      <td>3</td>\n",
       "      <td>2010</td>\n",
       "      <td>1</td>\n",
       "      <td>1.999160</td>\n",
       "    </tr>\n",
       "  </tbody>\n",
       "</table>\n",
       "</div>"
      ],
      "text/plain": [
       "   amount  longitude_of_pickup  latitude_of_pickup  longitude_of_dropoff  \\\n",
       "0     4.5           -73.844311           40.721319            -73.841610   \n",
       "1    16.9           -74.016048           40.711303            -73.979268   \n",
       "2     5.7           -73.982738           40.761270            -73.991242   \n",
       "3     7.7           -73.987130           40.733143            -73.991567   \n",
       "4     5.3           -73.968095           40.768008            -73.956655   \n",
       "\n",
       "   latitude_of_dropoff  no_of_passenger  hour  day  month  year  dayofweek  \\\n",
       "0            40.712278                1    17   15      6  2009          0   \n",
       "1            40.782004                1    16    5      1  2010          1   \n",
       "2            40.750562                2     0   18      8  2011          3   \n",
       "3            40.758092                1     4   21      4  2012          5   \n",
       "4            40.783762                1     7    9      3  2010          1   \n",
       "\n",
       "   travel_dist_km  \n",
       "0        1.030765  \n",
       "1        8.450145  \n",
       "2        1.389527  \n",
       "3        2.799274  \n",
       "4        1.999160  "
      ]
     },
     "execution_count": 30,
     "metadata": {},
     "output_type": "execute_result"
    }
   ],
   "source": [
    "taxi_df.head()"
   ]
  },
  {
   "cell_type": "code",
   "execution_count": 31,
   "metadata": {},
   "outputs": [
    {
     "data": {
      "text/plain": [
       "Index(['amount', 'longitude_of_pickup', 'latitude_of_pickup',\n",
       "       'longitude_of_dropoff', 'latitude_of_dropoff', 'no_of_passenger',\n",
       "       'hour', 'day', 'month', 'year', 'dayofweek', 'travel_dist_km'],\n",
       "      dtype='object')"
      ]
     },
     "execution_count": 31,
     "metadata": {},
     "output_type": "execute_result"
    }
   ],
   "source": [
    "taxi_df.columns\n"
   ]
  },
  {
   "cell_type": "code",
   "execution_count": 32,
   "metadata": {},
   "outputs": [],
   "source": [
    "taxi_df.drop(['longitude_of_pickup', 'latitude_of_pickup',\n",
    "       'longitude_of_dropoff', 'latitude_of_dropoff'],axis=1,inplace=True)"
   ]
  },
  {
   "cell_type": "code",
   "execution_count": 33,
   "metadata": {},
   "outputs": [
    {
     "data": {
      "text/html": [
       "<div>\n",
       "<style scoped>\n",
       "    .dataframe tbody tr th:only-of-type {\n",
       "        vertical-align: middle;\n",
       "    }\n",
       "\n",
       "    .dataframe tbody tr th {\n",
       "        vertical-align: top;\n",
       "    }\n",
       "\n",
       "    .dataframe thead th {\n",
       "        text-align: right;\n",
       "    }\n",
       "</style>\n",
       "<table border=\"1\" class=\"dataframe\">\n",
       "  <thead>\n",
       "    <tr style=\"text-align: right;\">\n",
       "      <th></th>\n",
       "      <th>amount</th>\n",
       "      <th>no_of_passenger</th>\n",
       "      <th>hour</th>\n",
       "      <th>day</th>\n",
       "      <th>month</th>\n",
       "      <th>year</th>\n",
       "      <th>dayofweek</th>\n",
       "      <th>travel_dist_km</th>\n",
       "    </tr>\n",
       "  </thead>\n",
       "  <tbody>\n",
       "    <tr>\n",
       "      <th>0</th>\n",
       "      <td>4.5</td>\n",
       "      <td>1</td>\n",
       "      <td>17</td>\n",
       "      <td>15</td>\n",
       "      <td>6</td>\n",
       "      <td>2009</td>\n",
       "      <td>0</td>\n",
       "      <td>1.030765</td>\n",
       "    </tr>\n",
       "    <tr>\n",
       "      <th>1</th>\n",
       "      <td>16.9</td>\n",
       "      <td>1</td>\n",
       "      <td>16</td>\n",
       "      <td>5</td>\n",
       "      <td>1</td>\n",
       "      <td>2010</td>\n",
       "      <td>1</td>\n",
       "      <td>8.450145</td>\n",
       "    </tr>\n",
       "    <tr>\n",
       "      <th>2</th>\n",
       "      <td>5.7</td>\n",
       "      <td>2</td>\n",
       "      <td>0</td>\n",
       "      <td>18</td>\n",
       "      <td>8</td>\n",
       "      <td>2011</td>\n",
       "      <td>3</td>\n",
       "      <td>1.389527</td>\n",
       "    </tr>\n",
       "    <tr>\n",
       "      <th>3</th>\n",
       "      <td>7.7</td>\n",
       "      <td>1</td>\n",
       "      <td>4</td>\n",
       "      <td>21</td>\n",
       "      <td>4</td>\n",
       "      <td>2012</td>\n",
       "      <td>5</td>\n",
       "      <td>2.799274</td>\n",
       "    </tr>\n",
       "    <tr>\n",
       "      <th>4</th>\n",
       "      <td>5.3</td>\n",
       "      <td>1</td>\n",
       "      <td>7</td>\n",
       "      <td>9</td>\n",
       "      <td>3</td>\n",
       "      <td>2010</td>\n",
       "      <td>1</td>\n",
       "      <td>1.999160</td>\n",
       "    </tr>\n",
       "  </tbody>\n",
       "</table>\n",
       "</div>"
      ],
      "text/plain": [
       "   amount  no_of_passenger  hour  day  month  year  dayofweek  travel_dist_km\n",
       "0     4.5                1    17   15      6  2009          0        1.030765\n",
       "1    16.9                1    16    5      1  2010          1        8.450145\n",
       "2     5.7                2     0   18      8  2011          3        1.389527\n",
       "3     7.7                1     4   21      4  2012          5        2.799274\n",
       "4     5.3                1     7    9      3  2010          1        1.999160"
      ]
     },
     "execution_count": 33,
     "metadata": {},
     "output_type": "execute_result"
    }
   ],
   "source": [
    "taxi_df.head()"
   ]
  },
  {
   "cell_type": "code",
   "execution_count": 34,
   "metadata": {},
   "outputs": [],
   "source": [
    "X=taxi_df.values[:,1:]\n",
    "Y=taxi_df.values[:,0]"
   ]
  },
  {
   "cell_type": "code",
   "execution_count": 35,
   "metadata": {},
   "outputs": [],
   "source": [
    "from sklearn.preprocessing import StandardScaler\n",
    "scaler=StandardScaler()\n",
    "\n",
    "scaler.fit(X)\n",
    "X=scaler.transform(X)"
   ]
  },
  {
   "cell_type": "code",
   "execution_count": 36,
   "metadata": {},
   "outputs": [],
   "source": [
    "from sklearn.model_selection import train_test_split\n",
    "\n",
    "#Split the data into test and train\n",
    "X_train,X_test,Y_train,Y_test=train_test_split(X,Y,test_size=0.3,random_state=10)"
   ]
  },
  {
   "cell_type": "code",
   "execution_count": 37,
   "metadata": {},
   "outputs": [
    {
     "name": "stdout",
     "output_type": "stream",
     "text": [
      "(34325, 7)\n",
      "(14711, 7)\n",
      "(34325,)\n",
      "(14711,)\n"
     ]
    }
   ],
   "source": [
    "print(X_train.shape)\n",
    "print(X_test.shape)\n",
    "print(Y_train.shape)\n",
    "print(Y_test.shape)"
   ]
  },
  {
   "cell_type": "markdown",
   "metadata": {},
   "source": [
    "### DecisionTree Regressor"
   ]
  },
  {
   "cell_type": "code",
   "execution_count": 38,
   "metadata": {},
   "outputs": [],
   "source": [
    "#predicting using the DecisionTreeRegressor\n",
    "from sklearn.tree import DecisionTreeRegressor\n",
    "\n",
    "model_DecisionTree=DecisionTreeRegressor(criterion='squared_error',random_state=10) #in classifer it was gini here in regression squared error and is bydefault\n",
    "model_DecisionTree.fit(X_train,Y_train)\n",
    "\n",
    "#Fit the model on the data and preduct the values\n",
    "Y_pred=model_DecisionTree.predict(X_test)\n",
    "#print(Y_pred)"
   ]
  },
  {
   "cell_type": "code",
   "execution_count": 39,
   "metadata": {},
   "outputs": [
    {
     "data": {
      "text/plain": [
       "0.9999999011754527"
      ]
     },
     "execution_count": 39,
     "metadata": {},
     "output_type": "execute_result"
    }
   ],
   "source": [
    "model_DecisionTree.score(X_train,Y_train)"
   ]
  },
  {
   "cell_type": "code",
   "execution_count": 40,
   "metadata": {},
   "outputs": [],
   "source": [
    "#Above the accuracy is 99% for training data"
   ]
  },
  {
   "cell_type": "code",
   "execution_count": 41,
   "metadata": {},
   "outputs": [
    {
     "name": "stdout",
     "output_type": "stream",
     "text": [
      "R-squared: 0.5054342181418084\n",
      "RMSE: 6.707341049541443\n",
      "Adj R-square: 0.5053636062369172\n"
     ]
    }
   ],
   "source": [
    "from sklearn.metrics import r2_score,mean_squared_error\n",
    "import numpy as np\n",
    "\n",
    "r2=r2_score(Y_test,Y_pred)\n",
    "print(\"R-squared:\",r2)\n",
    "\n",
    "rmse=np.sqrt(mean_squared_error(Y_test,Y_pred))\n",
    "print(\"RMSE:\",rmse)\n",
    "\n",
    "adjusted_r_squared = 1 - (1-r2)*(len(Y)-1)/(len(Y)-X.shape[1]-1)\n",
    "print(\"Adj R-square:\",adjusted_r_squared)"
   ]
  },
  {
   "cell_type": "code",
   "execution_count": 42,
   "metadata": {},
   "outputs": [],
   "source": [
    "#Here when it comes to testing data is R2 is half so it is overfitted model\n"
   ]
  },
  {
   "cell_type": "markdown",
   "metadata": {},
   "source": [
    "### Pruning-Adding some parameters "
   ]
  },
  {
   "cell_type": "code",
   "execution_count": 43,
   "metadata": {},
   "outputs": [
    {
     "data": {
      "text/plain": [
       "DecisionTreeRegressor(max_depth=5, min_samples_leaf=5, random_state=10)"
      ]
     },
     "execution_count": 43,
     "metadata": {},
     "output_type": "execute_result"
    }
   ],
   "source": [
    "#predicting using the DecisionTreeRegressor\n",
    "from sklearn.tree import DecisionTreeRegressor\n",
    "\n",
    "model_DecisionTree=DecisionTreeRegressor(max_depth=5,min_samples_leaf=5,random_state=10) #in classifer it was gini here in regression squared error and is bydefault\n",
    "model_DecisionTree.fit(X_train,Y_train)"
   ]
  },
  {
   "cell_type": "code",
   "execution_count": 44,
   "metadata": {},
   "outputs": [
    {
     "name": "stdout",
     "output_type": "stream",
     "text": [
      "[13.58958669  7.28084342  5.49791942 ...  8.33516104  5.49791942\n",
      " 12.63292757]\n"
     ]
    }
   ],
   "source": [
    "#Fit the model on the data and preduct the values\n",
    "Y_pred=model_DecisionTree.predict(X_test)\n",
    "print(Y_pred)"
   ]
  },
  {
   "cell_type": "code",
   "execution_count": 45,
   "metadata": {},
   "outputs": [
    {
     "data": {
      "text/plain": [
       "0.7476080446835321"
      ]
     },
     "execution_count": 45,
     "metadata": {},
     "output_type": "execute_result"
    }
   ],
   "source": [
    "model_DecisionTree.score(X_train,Y_train)"
   ]
  },
  {
   "cell_type": "code",
   "execution_count": 46,
   "metadata": {},
   "outputs": [
    {
     "name": "stdout",
     "output_type": "stream",
     "text": [
      "R-squared: 0.7845022137366695\n",
      "RMSE: 4.427512170288781\n",
      "Adj R-square: 0.7844714459202413\n"
     ]
    }
   ],
   "source": [
    "from sklearn.metrics import r2_score,mean_squared_error\n",
    "import numpy as np\n",
    "\n",
    "r2=r2_score(Y_test,Y_pred)\n",
    "print(\"R-squared:\",r2)\n",
    "\n",
    "rmse=np.sqrt(mean_squared_error(Y_test,Y_pred))\n",
    "print(\"RMSE:\",rmse)\n",
    "\n",
    "adjusted_r_squared = 1 - (1-r2)*(len(Y)-1)/(len(Y)-X.shape[1]-1)\n",
    "print(\"Adj R-square:\",adjusted_r_squared)"
   ]
  },
  {
   "cell_type": "code",
   "execution_count": 47,
   "metadata": {},
   "outputs": [
    {
     "name": "stdout",
     "output_type": "stream",
     "text": [
      "[('no_of_passenger', 0.0), ('hour', 0.0008849198511757119), ('day', 0.00018652919850898857), ('month', 0.0), ('year', 0.021625212606397652), ('dayofweek', 0.0004607903174356224), ('travel_dist_km', 0.976842548026482)]\n"
     ]
    }
   ],
   "source": [
    "print(list(zip(taxi_df.columns[1:],model_DecisionTree.feature_importances_)))   \n",
    "#This show how important which variable is like here travel_dist_km shows that fare is more depend on travel_dist_km"
   ]
  },
  {
   "cell_type": "markdown",
   "metadata": {},
   "source": [
    "### Using RandomForestRegressor"
   ]
  },
  {
   "cell_type": "code",
   "execution_count": 48,
   "metadata": {},
   "outputs": [],
   "source": [
    "#predicting using the RandomForestRegressor\n",
    "from sklearn.ensemble import RandomForestRegressor\n",
    "\n",
    "model_Rf= RandomForestRegressor(n_estimators=100,random_state=10,max_depth=5,min_samples_leaf=5) \n",
    "\n",
    "#fit the model on the data and predict the values\n",
    "model_Rf.fit(X_train,Y_train)\n",
    "Y_pred=model_Rf.predict(X_test)\n",
    "\n"
   ]
  },
  {
   "cell_type": "code",
   "execution_count": 49,
   "metadata": {},
   "outputs": [
    {
     "name": "stdout",
     "output_type": "stream",
     "text": [
      "R-squared: 0.7919078207039847\n",
      "RMSE: 4.3507711124121204\n",
      "Adj R-square: 0.7918781102272148\n"
     ]
    }
   ],
   "source": [
    "from sklearn.metrics import r2_score,mean_squared_error\n",
    "import numpy as np\n",
    "\n",
    "r2=r2_score(Y_test,Y_pred)\n",
    "print(\"R-squared:\",r2)\n",
    "\n",
    "rmse=np.sqrt(mean_squared_error(Y_test,Y_pred))\n",
    "print(\"RMSE:\",rmse)\n",
    "\n",
    "adjusted_r_squared = 1 - (1-r2)*(len(Y)-1)/(len(Y)-X.shape[1]-1)\n",
    "print(\"Adj R-square:\",adjusted_r_squared)"
   ]
  },
  {
   "cell_type": "code",
   "execution_count": 50,
   "metadata": {},
   "outputs": [
    {
     "name": "stdout",
     "output_type": "stream",
     "text": [
      "[('no_of_passenger', 3.127114289141726e-06), ('hour', 0.0016175530780050732), ('day', 0.00023570186352900988), ('month', 0.00027782208922142837), ('year', 0.02154534171666654), ('dayofweek', 0.0002648463169488912), ('travel_dist_km', 0.9760556078213399)]\n"
     ]
    }
   ],
   "source": [
    "print(list(zip(taxi_df.columns[1:],model_Rf.feature_importances_)))   "
   ]
  },
  {
   "cell_type": "markdown",
   "metadata": {},
   "source": [
    "### Using Extra Trees"
   ]
  },
  {
   "cell_type": "code",
   "execution_count": 51,
   "metadata": {},
   "outputs": [
    {
     "name": "stdout",
     "output_type": "stream",
     "text": [
      "[12.90515369  9.74195058  7.56353452 ...  8.54103994  8.17705877\n",
      " 12.01377088]\n"
     ]
    }
   ],
   "source": [
    "#predicting using the Extra_Treea_Regressor\n",
    "from sklearn.ensemble import ExtraTreesRegressor\n",
    "\n",
    "model_ETR= ExtraTreesRegressor(n_estimators=100,random_state=10,bootstrap=True,max_depth=10,min_samples_leaf=5)  \n",
    "\n",
    "#fit the model on the data and predict the values\n",
    "model_ETR.fit(X_train,Y_train)\n",
    "\n",
    "Y_pred=model_ETR.predict(X_test)\n",
    "print(Y_pred)\n"
   ]
  },
  {
   "cell_type": "code",
   "execution_count": 52,
   "metadata": {},
   "outputs": [
    {
     "data": {
      "text/plain": [
       "0.6072723027454293"
      ]
     },
     "execution_count": 52,
     "metadata": {},
     "output_type": "execute_result"
    }
   ],
   "source": [
    "model_ETR.score(X_train,Y_train)"
   ]
  },
  {
   "cell_type": "code",
   "execution_count": 53,
   "metadata": {},
   "outputs": [
    {
     "name": "stdout",
     "output_type": "stream",
     "text": [
      "R-squared: 0.6049334087643743\n",
      "RMSE: 5.994783587824736\n",
      "Adj R-square: 0.6048770029118278\n"
     ]
    }
   ],
   "source": [
    "from sklearn.metrics import r2_score,mean_squared_error\n",
    "import numpy as np\n",
    "\n",
    "r2=r2_score(Y_test,Y_pred)\n",
    "print(\"R-squared:\",r2)\n",
    "\n",
    "rmse=np.sqrt(mean_squared_error(Y_test,Y_pred))\n",
    "print(\"RMSE:\",rmse)\n",
    "\n",
    "adjusted_r_squared = 1 - (1-r2)*(len(Y)-1)/(len(Y)-X.shape[1]-1)\n",
    "print(\"Adj R-square:\",adjusted_r_squared)"
   ]
  },
  {
   "cell_type": "markdown",
   "metadata": {},
   "source": [
    "### Conclusion:-Random Forest is giving good accuracy than others"
   ]
  }
 ],
 "metadata": {
  "kernelspec": {
   "display_name": "Python 3",
   "language": "python",
   "name": "python3"
  },
  "language_info": {
   "codemirror_mode": {
    "name": "ipython",
    "version": 3
   },
   "file_extension": ".py",
   "mimetype": "text/x-python",
   "name": "python",
   "nbconvert_exporter": "python",
   "pygments_lexer": "ipython3",
   "version": "3.7.6"
  }
 },
 "nbformat": 4,
 "nbformat_minor": 5
}
